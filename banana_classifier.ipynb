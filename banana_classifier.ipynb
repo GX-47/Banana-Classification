{
 "cells": [
  {
   "cell_type": "markdown",
   "metadata": {},
   "source": [
    "# Fresh or rotten banana classifer"
   ]
  },
  {
   "cell_type": "markdown",
   "metadata": {},
   "source": [
    "This is a model that classifies if the bananas are fresh or rotten. <br>\n",
    "The dataset used is a modified version of this one: \"https://www.kaggle.com/datasets/sriramr/fruits-fresh-and-rotten-for-classification\".<br> or you could use this: \"https://www.kaggle.com/datasets/akash47anand/freshrotten-banana\"<br>\n",
    "Create two folders: dataset(which is further classified into test and train) and Final test"
   ]
  },
  {
   "cell_type": "code",
   "execution_count": 3,
   "metadata": {},
   "outputs": [
    {
     "name": "stdout",
     "output_type": "stream",
     "text": [
      "Found 729 images belonging to 2 classes.\n",
      "Found 182 images belonging to 2 classes.\n",
      "Found 3775 images belonging to 2 classes.\n",
      "Epoch 1/5\n",
      "46/46 [==============================] - 13s 239ms/step - loss: 0.6537 - accuracy: 0.7682 - val_loss: 0.1287 - val_accuracy: 0.9780\n",
      "Epoch 2/5\n",
      "46/46 [==============================] - 10s 212ms/step - loss: 0.1297 - accuracy: 0.9534 - val_loss: 0.0727 - val_accuracy: 0.9835\n",
      "Epoch 3/5\n",
      "46/46 [==============================] - 10s 209ms/step - loss: 0.1064 - accuracy: 0.9575 - val_loss: 0.0985 - val_accuracy: 0.9725\n",
      "Epoch 4/5\n",
      "46/46 [==============================] - 10s 209ms/step - loss: 0.0807 - accuracy: 0.9684 - val_loss: 0.0715 - val_accuracy: 0.9945\n",
      "Epoch 5/5\n",
      "46/46 [==============================] - 10s 211ms/step - loss: 0.0614 - accuracy: 0.9877 - val_loss: 0.0615 - val_accuracy: 0.9945\n",
      "236/236 [==============================] - 29s 123ms/step - loss: 0.0427 - accuracy: 0.9870\n",
      "Test Loss: 4.272947087883949 %\n",
      "Test Accuracy: 98.70198965072632 %\n",
      "Model: \"sequential_2\"\n",
      "_________________________________________________________________\n",
      " Layer (type)                Output Shape              Param #   \n",
      "=================================================================\n",
      " conv2d_2 (Conv2D)           (None, 98, 98, 16)        448       \n",
      "                                                                 \n",
      " max_pooling2d_2 (MaxPoolin  (None, 49, 49, 16)        0         \n",
      " g2D)                                                            \n",
      "                                                                 \n",
      " flatten_2 (Flatten)         (None, 38416)             0         \n",
      "                                                                 \n",
      " dense_4 (Dense)             (None, 64)                2458688   \n",
      "                                                                 \n",
      " dropout_2 (Dropout)         (None, 64)                0         \n",
      "                                                                 \n",
      " dense_5 (Dense)             (None, 1)                 65        \n",
      "                                                                 \n",
      "=================================================================\n",
      "Total params: 2459201 (9.38 MB)\n",
      "Trainable params: 2459201 (9.38 MB)\n",
      "Non-trainable params: 0 (0.00 Byte)\n",
      "_________________________________________________________________\n"
     ]
    },
    {
     "name": "stderr",
     "output_type": "stream",
     "text": [
      "c:\\Users\\Akash Anand\\AppData\\Local\\Programs\\Python\\Python310\\lib\\site-packages\\keras\\src\\engine\\training.py:3000: UserWarning: You are saving your model as an HDF5 file via `model.save()`. This file format is considered legacy. We recommend using instead the native Keras format, e.g. `model.save('my_model.keras')`.\n",
      "  saving_api.save_model(\n"
     ]
    }
   ],
   "source": [
    "# Code to generate a model\n",
    "import os\n",
    "import tensorflow as tf\n",
    "from tensorflow.keras.preprocessing.image import ImageDataGenerator\n",
    "from tensorflow.keras.models import Sequential\n",
    "from tensorflow.keras.layers import Conv2D, MaxPooling2D, Flatten, Dense, Dropout\n",
    "\n",
    "train_data_dir = r'dataset\\test'\n",
    "test_data_dir = r'dataset\\train'\n",
    "\n",
    "IMG_WIDTH, IMG_HEIGHT = 100, 100\n",
    "BATCH_SIZE = 16\n",
    "NUM_EPOCHS = 5\n",
    "optimizer = \"adam\"\n",
    "\n",
    "# Define classes to include (i.e., folders to consider) in train and test data\n",
    "included_classes = ['freshbanana', 'rottenbanana']\n",
    "\n",
    "train_datagen = ImageDataGenerator(rescale=1./255, validation_split=0.2)\n",
    "train_generator = train_datagen.flow_from_directory(\n",
    "    train_data_dir,\n",
    "    target_size=(IMG_WIDTH, IMG_HEIGHT),\n",
    "    batch_size=BATCH_SIZE,\n",
    "    class_mode='binary',\n",
    "    subset='training',\n",
    "    classes=included_classes\n",
    ")\n",
    "\n",
    "validation_generator = train_datagen.flow_from_directory(\n",
    "    train_data_dir,\n",
    "    target_size=(IMG_WIDTH, IMG_HEIGHT),\n",
    "    batch_size=BATCH_SIZE,\n",
    "    class_mode='binary',\n",
    "    subset='validation',\n",
    "    classes=included_classes\n",
    ")\n",
    "\n",
    "test_datagen = ImageDataGenerator(rescale=1./255)\n",
    "test_generator = test_datagen.flow_from_directory(\n",
    "    test_data_dir,\n",
    "    target_size=(IMG_WIDTH, IMG_HEIGHT),\n",
    "    batch_size=BATCH_SIZE,\n",
    "    class_mode='binary',\n",
    "    classes=included_classes\n",
    ")\n",
    "\n",
    "# Create model\n",
    "model = Sequential()\n",
    "\n",
    "model.add(Conv2D(16, (3, 3), activation='relu', input_shape=(IMG_WIDTH, IMG_HEIGHT, 3)))\n",
    "model.add(MaxPooling2D(2, 2))\n",
    "model.add(Flatten(input_shape=(IMG_WIDTH, IMG_HEIGHT, 3)))\n",
    "model.add(Dense(64, activation='relu'))\n",
    "model.add(Dropout(0.5))\n",
    "model.add(Dense(1, activation='sigmoid'))\n",
    "\n",
    "model.compile(loss='binary_crossentropy', optimizer=optimizer, metrics=['accuracy'])\n",
    "\n",
    "# Fit the model\n",
    "model.fit(train_generator, validation_data=validation_generator, epochs=NUM_EPOCHS)\n",
    "\n",
    "# Evaluate the model on the test dataset\n",
    "test_loss, test_accuracy = model.evaluate(test_generator)\n",
    "print(\"Test Loss:\", test_loss*100,\"%\")\n",
    "print(\"Test Accuracy:\", test_accuracy*100,\"%\")\n",
    "model.summary()\n",
    "\n",
    "# Save the trained model\n",
    "model.save(r'banana_classifier_model.h5')"
   ]
  },
  {
   "cell_type": "code",
   "execution_count": 4,
   "metadata": {},
   "outputs": [
    {
     "name": "stdout",
     "output_type": "stream",
     "text": [
      "1/1 [==============================] - 0s 210ms/step\n"
     ]
    },
    {
     "name": "stderr",
     "output_type": "stream",
     "text": [
      "C:\\Users\\Akash Anand\\AppData\\Local\\Temp\\ipykernel_8528\\3469999258.py:33: DeprecationWarning: ANTIALIAS is deprecated and will be removed in Pillow 10 (2023-07-01). Use LANCZOS or Resampling.LANCZOS instead.\n",
      "  img = img.resize((400, 400), Image.ANTIALIAS)\n"
     ]
    }
   ],
   "source": [
    "# Code to create GUI to test the model\n",
    "import os\n",
    "import tkinter as tk\n",
    "from tkinter import filedialog\n",
    "from PIL import Image, ImageTk\n",
    "import tensorflow as tf\n",
    "from tensorflow.keras.models import load_model\n",
    "\n",
    "# Load the trained model\n",
    "model_path = r'banana_classifier_model.h5'\n",
    "model = load_model(model_path)\n",
    "\n",
    "def preprocess_image(image_path):\n",
    "    img = tf.keras.preprocessing.image.load_img(image_path, target_size=(100, 100))\n",
    "    img_array = tf.keras.preprocessing.image.img_to_array(img)\n",
    "    img_array = img_array / 255.0\n",
    "    img_array = img_array.reshape(1, 100, 100, 3)\n",
    "    return img_array\n",
    "\n",
    "def predict_banana(img_array):\n",
    "    prediction = model.predict(img_array)\n",
    "    if prediction[0][0] < 0.5:\n",
    "        return \"Fresh banana.\"\n",
    "    else:\n",
    "        return \"Rotten banana.\"\n",
    "\n",
    "def open_image():\n",
    "    file_path = filedialog.askopenfilename(filetypes=[(\"Image Files\", \"*.png;*.jpg;*.jpeg\")])\n",
    "    if file_path:\n",
    "        img_array = preprocess_image(file_path)\n",
    "        prediction = predict_banana(img_array)\n",
    "        img = Image.open(file_path)\n",
    "        img = img.resize((400, 400), Image.ANTIALIAS)\n",
    "        img = ImageTk.PhotoImage(img)\n",
    "        panel.configure(image=img)\n",
    "        panel.image = img\n",
    "        result_label.config(text=prediction)\n",
    "\n",
    "root = tk.Tk()\n",
    "root.title(\"Fresh/Rotten Banana Identifier\")\n",
    "root.geometry(\"450x550\")\n",
    "open_button = tk.Button(root, text=\"Open Image\", command=open_image)\n",
    "open_button.pack(pady=10)\n",
    "\n",
    "panel = tk.Label(root, width=400, height=400)\n",
    "panel.pack()\n",
    "result_label = tk.Label(root, text=\"\", font=(\"Helvetica\", 16))\n",
    "result_label.pack(pady=10)\n",
    "\n",
    "root.mainloop()"
   ]
  }
 ],
 "metadata": {
  "kernelspec": {
   "display_name": "Python 3",
   "language": "python",
   "name": "python3"
  },
  "language_info": {
   "codemirror_mode": {
    "name": "ipython",
    "version": 3
   },
   "file_extension": ".py",
   "mimetype": "text/x-python",
   "name": "python",
   "nbconvert_exporter": "python",
   "pygments_lexer": "ipython3",
   "version": "3.10.7"
  },
  "orig_nbformat": 4
 },
 "nbformat": 4,
 "nbformat_minor": 2
}
